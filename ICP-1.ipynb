{
 "cells": [
  {
   "cell_type": "code",
   "execution_count": 12,
   "id": "57e8ca59",
   "metadata": {},
   "outputs": [
    {
     "data": {
      "text/plain": [
       "'htyp'"
      ]
     },
     "execution_count": 12,
     "metadata": {},
     "output_type": "execute_result"
    }
   ],
   "source": [
    "'''Input the string “Python” as a list of characters from console, delete at least 2 characters, reverse the\n",
    "resultant string and print it.'''\n",
    "s='python'\n",
    "s[:-2][::-1]"
   ]
  },
  {
   "cell_type": "code",
   "execution_count": 15,
   "id": "046bcee7",
   "metadata": {},
   "outputs": [
    {
     "name": "stdout",
     "output_type": "stream",
     "text": [
      "sum = 4\n",
      "minus=0\n",
      "divide = 1.0\n",
      "multiply =4\n"
     ]
    }
   ],
   "source": [
    "#Take two numbers from user and perform at least 4 arithmetic operations on them.\n",
    "a = 2; b = 2\n",
    "y=a+b #sum \n",
    "x=a-b #minus\n",
    "z=a/b #divided\n",
    "w=a*b #multiply\n",
    "print(f'sum = {y}')\n",
    "print(f'minus={x}')\n",
    "print(f'divide = {z}')\n",
    "print(f'multiply ={w}')"
   ]
  },
  {
   "cell_type": "code",
   "execution_count": 17,
   "id": "bf84921f",
   "metadata": {},
   "outputs": [
    {
     "data": {
      "text/plain": [
       "'pythons is a popular programming language.pythons can be used on a server to create web applications.pythons is an interpreted, object-oriented, high-level programming language with dynamic semantics.'"
      ]
     },
     "execution_count": 17,
     "metadata": {},
     "output_type": "execute_result"
    }
   ],
   "source": [
    "#Write a program that accepts a sentence and replace each occurrence of ‘python’ with ‘pythons’.\n",
    "s='Python is a popular programming language.Python can be used on a server to create web applications.Python is an interpreted, object-oriented, high-level programming language with dynamic semantics.'\n",
    "s.replace('Python','pythons')\n"
   ]
  },
  {
   "cell_type": "code",
   "execution_count": 20,
   "id": "1fdc76f2",
   "metadata": {},
   "outputs": [
    {
     "name": "stdout",
     "output_type": "stream",
     "text": [
      "Enter your marks in Computer Science: 89\n",
      "Grade: B\n"
     ]
    }
   ],
   "source": [
    "'''Use the if statement conditions to write a program to print the letter grade based on an input class score. Use\n",
    "the grading scheme we are using in this class.'''\n",
    "\n",
    "marks = float(input(\"Enter your marks in Computer Science: \"))\n",
    "\n",
    "if marks >= 90 and marks <=100:\n",
    "    print(\"Grade: A\")\n",
    "elif marks >= 80 and marks <= 89:\n",
    "    print(\"Grade: B\")\n",
    "elif marks >= 70 and marks <=79:\n",
    "    print(\"Grade: C\")\n",
    "elif marks >= 60 and marks <=69:\n",
    "    print(\"Grade: D \")\n",
    "elif marks <= 59:\n",
    "    print(\"Grade: F\")\n"
   ]
  }
 ],
 "metadata": {
  "kernelspec": {
   "display_name": "Python 3 (ipykernel)",
   "language": "python",
   "name": "python3"
  },
  "language_info": {
   "codemirror_mode": {
    "name": "ipython",
    "version": 3
   },
   "file_extension": ".py",
   "mimetype": "text/x-python",
   "name": "python",
   "nbconvert_exporter": "python",
   "pygments_lexer": "ipython3",
   "version": "3.9.13"
  }
 },
 "nbformat": 4,
 "nbformat_minor": 5
}
